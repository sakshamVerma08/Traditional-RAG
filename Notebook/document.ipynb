{
 "cells": [
  {
   "cell_type": "markdown",
   "id": "0",
   "metadata": {},
   "source": [
    "### Data Ingestion\n"
   ]
  },
  {
   "cell_type": "code",
   "execution_count": null,
   "id": "1",
   "metadata": {},
   "outputs": [],
   "source": [
    "### BaseMedia class of Langchain\n",
    "\n",
    "from langchain_core.documents import Document\n",
    "\n",
    "doc = Document(\n",
    "    page_content = \"I like backend development alongside with AI engineering\",\n",
    "    metadata = {\n",
    "        \"source\":\"basicInfo.txt\",\n",
    "        \"author\":\"Saksham verma\",\n",
    "        \"age\":21,\n",
    "        \"skills\": [\"Backend Development\", \"AI Agents\",\"Frontend Development\",\"API security\",\"Containerization\"]\n",
    "    }\n",
    ")\n",
    "\n",
    "print(doc)"
   ]
  },
  {
   "cell_type": "code",
   "execution_count": null,
   "id": "2",
   "metadata": {},
   "outputs": [],
   "source": [
    "## Generating a basic text file\n",
    "\n",
    "import os\n",
    "\n",
    "os.makedirs(\"../data/basicInfo.txt\", exist_ok=True)"
   ]
  },
  {
   "cell_type": "code",
   "execution_count": null,
   "id": "3",
   "metadata": {},
   "outputs": [],
   "source": [
    "## Loading the data from the Document using DirectoryLoader\n",
    "\n",
    "from langchain_community.document_loaders import DirectoryLoader, TextLoader, PyMuPDFLoader\n",
    "\n",
    "loader = DirectoryLoader(\n",
    "    \"../data/pdf_files\",\n",
    "    glob=\"**/*.pdf\",\n",
    "    loader_cls= PyMuPDFLoader,\n",
    "    show_progress=False,\n",
    ")\n",
    "\n",
    "pdf_documents = loader.load()\n",
    "print(pdf_documents)"
   ]
  }
 ],
 "metadata": {
  "kernelspec": {
   "display_name": "venv",
   "language": "python",
   "name": "python3"
  },
  "language_info": {
   "codemirror_mode": {
    "name": "ipython",
    "version": 3
   },
   "file_extension": ".py",
   "mimetype": "text/x-python",
   "name": "python",
   "nbconvert_exporter": "python",
   "pygments_lexer": "ipython3",
   "version": "3.9.7"
  }
 },
 "nbformat": 4,
 "nbformat_minor": 5
}
