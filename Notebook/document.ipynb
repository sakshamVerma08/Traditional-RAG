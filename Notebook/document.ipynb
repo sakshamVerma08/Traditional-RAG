{
 "cells": [
  {
   "cell_type": "markdown",
   "id": "c97705a5",
   "metadata": {},
   "source": [
    "### Data Ingestion\n"
   ]
  },
  {
   "cell_type": "code",
   "execution_count": 3,
   "id": "47687489",
   "metadata": {},
   "outputs": [
    {
     "name": "stdout",
     "output_type": "stream",
     "text": [
      "page_content='I like backend development alongside with AI engineering' metadata={'source': 'basicInfo.txt', 'author': 'Saksham verma', 'age': 21, 'skills': ['Backend Development', 'AI Agents', 'Frontend Development', 'API security', 'Containerization']}\n"
     ]
    }
   ],
   "source": [
    "### BaseMedia class of Langchain\n",
    "\n",
    "from langchain_core.documents import Document\n",
    "\n",
    "doc = Document(\n",
    "    page_content = \"I like backend development alongside with AI engineering\",\n",
    "    metadata = {\n",
    "        \"source\":\"basicInfo.txt\",\n",
    "        \"author\":\"Saksham verma\",\n",
    "        \"age\":21,\n",
    "        \"skills\": [\"Backend Development\", \"AI Agents\",\"Frontend Development\",\"API security\",\"Containerization\"]\n",
    "    }\n",
    ")\n",
    "\n",
    "print(doc)"
   ]
  },
  {
   "cell_type": "code",
   "execution_count": null,
   "id": "7fb7c792",
   "metadata": {},
   "outputs": [],
   "source": [
    "## Generating a basic text file\n",
    "\n",
    "import os\n",
    "\n",
    "os.makedirs(\"../data/basicInfo.txt\", exist_ok=True)"
   ]
  },
  {
   "cell_type": "code",
   "execution_count": 21,
   "id": "4eec510c",
   "metadata": {},
   "outputs": [
    {
     "name": "stdout",
     "output_type": "stream",
     "text": [
      "[Document(metadata={'source': '..\\\\data\\\\text_files\\\\basicInfo.txt'}, page_content='sample_text = {\\n    \"../data/basicInfo.txt\": \"\"\"\\nHi, I\\'m passionate about backend development and love working as a fullstack developer. Recently, I\\'ve been diving into the world of AI agents, exploring how they can transform modern applications. I\\'m also planning to learn Docker and Kubernetes to enhance my skills in containerization and orchestration. In my free time, I enjoy reading novels, which helps me unwind and sparks my creativity.\\n    \"\"\"\\n}'), Document(metadata={'source': '..\\\\data\\\\text_files\\\\postgreSQL.txt'}, page_content='sample_text = {\\n    \"../data/postgresInfo.txt\": \"\"\"\\nPostgreSQL is a powerful, open-source object-relational database system known for its reliability and feature set. It supports advanced data types, full ACID compliance, and extensibility through custom functions and plugins. PostgreSQL is widely used for web applications, analytics, and data warehousing. It offers features like JSON support, indexing, and concurrency control, making it a popular choice among developers and enterprises.\\n    \"\"\"\\n}')]\n"
     ]
    }
   ],
   "source": [
    "## Loading the data from the Document using DirectoryLoader\n",
    "\n",
    "from langchain_community.document_loaders import DirectoryLoader, TextLoader, PyPDFLoader, PyMuPDFLoader\n",
    "\n",
    "loader = DirectoryLoader(\n",
    "    \"../data/text_files\",\n",
    "    glob=\"**/*.txt\",\n",
    "    loader_kwargs= {\"encoding\":\"utf-8\"},\n",
    "    loader_cls= TextLoader,\n",
    "    show_progress=False,\n",
    ")\n",
    "\n",
    "pdf_documents = loader.load()\n",
    "print(pdf_documents)"
   ]
  }
 ],
 "metadata": {
  "kernelspec": {
   "display_name": "venv",
   "language": "python",
   "name": "python3"
  },
  "language_info": {
   "codemirror_mode": {
    "name": "ipython",
    "version": 3
   },
   "file_extension": ".py",
   "mimetype": "text/x-python",
   "name": "python",
   "nbconvert_exporter": "python",
   "pygments_lexer": "ipython3",
   "version": "3.9.7"
  }
 },
 "nbformat": 4,
 "nbformat_minor": 5
}
